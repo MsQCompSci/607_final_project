{
 "cells": [
  {
   "cell_type": "markdown",
   "metadata": {},
   "source": [
    "# Modeling Trials for Plagiarism Detection"
   ]
  },
  {
   "cell_type": "markdown",
   "metadata": {},
   "source": [
    "Now that we have the features calculated and trainig and test sets written to csv, we can try various modeling iterations to find a good model. \n",
    "\n",
    "I will be using my own model testing package. [See the following repo](https://github.com/Shampjeff/Personal_Projects) for code and example usage\n",
    "\n",
    "**Reproducability Note: To fully reproduce this work you will need `ml_test_tools_dev.py` from the repo above.**"
   ]
  },
  {
   "cell_type": "code",
   "execution_count": 1,
   "metadata": {},
   "outputs": [],
   "source": [
    "import numpy as np\n",
    "import pandas as pd\n",
    "import matplotlib.pyplot as plt\n",
    "import seaborn as sns\n",
    "import sys\n",
    "import os\n",
    "\n",
    "from sklearn.ensemble import GradientBoostingClassifier\n",
    "from sklearn.linear_model import LogisticRegression\n",
    "from sklearn.svm import SVC, LinearSVC\n",
    "\n",
    "%load_ext autoreload\n",
    "%autoreload 2"
   ]
  },
  {
   "cell_type": "markdown",
   "metadata": {},
   "source": [
    "Loading my ML testing tool from local files. See note above to reproduce. "
   ]
  },
  {
   "cell_type": "code",
   "execution_count": 2,
   "metadata": {},
   "outputs": [],
   "source": [
    "out_of_pwd = True\n",
    "if out_of_pwd == True:\n",
    "    tools_path = '/Users/jeffshamp/Documents/GitHub/Personal_Projects/'\n",
    "    if tools_path not in sys.path:\n",
    "        sys.path.append(tools_path)"
   ]
  },
  {
   "cell_type": "code",
   "execution_count": 3,
   "metadata": {},
   "outputs": [],
   "source": [
    "from ml_test_tools_dev import MLTestTool"
   ]
  },
  {
   "cell_type": "markdown",
   "metadata": {},
   "source": [
    "We are concatonating the test and train sets together because `MLTestTool` uses cross validation to evaluate the model performance. We should expect similar results as we see here in our deployed SageMaker model endpoint. "
   ]
  },
  {
   "cell_type": "code",
   "execution_count": 4,
   "metadata": {},
   "outputs": [],
   "source": [
    "train_df= pd.read_csv(\"plagiarism_data/train.csv\", header=None)\n",
    "\n",
    "#test_df= pd.read_csv(\"plagiarism_data/test.csv\", header=None)\n",
    "\n",
    "#df= pd.concat([train_df, test_df])\n",
    "# Renaming the class for usability\n",
    "train_df.rename(columns={0:\"class\", \n",
    "                        1:\"contain_1\",\n",
    "                        2:\"contain_2\",\n",
    "                        3:\"contain_3\",\n",
    "                        4:\"contain_4\",\n",
    "                        5:\"lcs_score\"},inplace=True)"
   ]
  },
  {
   "cell_type": "code",
   "execution_count": 5,
   "metadata": {},
   "outputs": [
    {
     "data": {
      "text/html": [
       "<div>\n",
       "<style scoped>\n",
       "    .dataframe tbody tr th:only-of-type {\n",
       "        vertical-align: middle;\n",
       "    }\n",
       "\n",
       "    .dataframe tbody tr th {\n",
       "        vertical-align: top;\n",
       "    }\n",
       "\n",
       "    .dataframe thead th {\n",
       "        text-align: right;\n",
       "    }\n",
       "</style>\n",
       "<table border=\"1\" class=\"dataframe\">\n",
       "  <thead>\n",
       "    <tr style=\"text-align: right;\">\n",
       "      <th></th>\n",
       "      <th>class</th>\n",
       "      <th>contain_1</th>\n",
       "      <th>contain_2</th>\n",
       "      <th>contain_3</th>\n",
       "      <th>contain_4</th>\n",
       "      <th>lcs_score</th>\n",
       "    </tr>\n",
       "  </thead>\n",
       "  <tbody>\n",
       "    <tr>\n",
       "      <th>count</th>\n",
       "      <td>70.000000</td>\n",
       "      <td>70.000000</td>\n",
       "      <td>70.000000</td>\n",
       "      <td>70.000000</td>\n",
       "      <td>70.000000</td>\n",
       "      <td>70.000000</td>\n",
       "    </tr>\n",
       "    <tr>\n",
       "      <th>mean</th>\n",
       "      <td>0.600000</td>\n",
       "      <td>0.684620</td>\n",
       "      <td>0.420294</td>\n",
       "      <td>0.335896</td>\n",
       "      <td>0.297479</td>\n",
       "      <td>0.503953</td>\n",
       "    </tr>\n",
       "    <tr>\n",
       "      <th>std</th>\n",
       "      <td>0.493435</td>\n",
       "      <td>0.221285</td>\n",
       "      <td>0.342852</td>\n",
       "      <td>0.356500</td>\n",
       "      <td>0.350238</td>\n",
       "      <td>0.293922</td>\n",
       "    </tr>\n",
       "    <tr>\n",
       "      <th>min</th>\n",
       "      <td>0.000000</td>\n",
       "      <td>0.319672</td>\n",
       "      <td>0.030303</td>\n",
       "      <td>0.000000</td>\n",
       "      <td>0.000000</td>\n",
       "      <td>0.153025</td>\n",
       "    </tr>\n",
       "    <tr>\n",
       "      <th>25%</th>\n",
       "      <td>0.000000</td>\n",
       "      <td>0.514283</td>\n",
       "      <td>0.102978</td>\n",
       "      <td>0.024484</td>\n",
       "      <td>0.004308</td>\n",
       "      <td>0.238275</td>\n",
       "    </tr>\n",
       "    <tr>\n",
       "      <th>50%</th>\n",
       "      <td>1.000000</td>\n",
       "      <td>0.619420</td>\n",
       "      <td>0.333507</td>\n",
       "      <td>0.187781</td>\n",
       "      <td>0.111166</td>\n",
       "      <td>0.438918</td>\n",
       "    </tr>\n",
       "    <tr>\n",
       "      <th>75%</th>\n",
       "      <td>1.000000</td>\n",
       "      <td>0.911111</td>\n",
       "      <td>0.711317</td>\n",
       "      <td>0.635552</td>\n",
       "      <td>0.573648</td>\n",
       "      <td>0.820566</td>\n",
       "    </tr>\n",
       "    <tr>\n",
       "      <th>max</th>\n",
       "      <td>1.000000</td>\n",
       "      <td>1.000000</td>\n",
       "      <td>1.000000</td>\n",
       "      <td>0.988889</td>\n",
       "      <td>0.977778</td>\n",
       "      <td>1.000000</td>\n",
       "    </tr>\n",
       "  </tbody>\n",
       "</table>\n",
       "</div>"
      ],
      "text/plain": [
       "           class  contain_1  contain_2  contain_3  contain_4  lcs_score\n",
       "count  70.000000  70.000000  70.000000  70.000000  70.000000  70.000000\n",
       "mean    0.600000   0.684620   0.420294   0.335896   0.297479   0.503953\n",
       "std     0.493435   0.221285   0.342852   0.356500   0.350238   0.293922\n",
       "min     0.000000   0.319672   0.030303   0.000000   0.000000   0.153025\n",
       "25%     0.000000   0.514283   0.102978   0.024484   0.004308   0.238275\n",
       "50%     1.000000   0.619420   0.333507   0.187781   0.111166   0.438918\n",
       "75%     1.000000   0.911111   0.711317   0.635552   0.573648   0.820566\n",
       "max     1.000000   1.000000   1.000000   0.988889   0.977778   1.000000"
      ]
     },
     "execution_count": 5,
     "metadata": {},
     "output_type": "execute_result"
    }
   ],
   "source": [
    "train_df.describe()"
   ]
  },
  {
   "cell_type": "markdown",
   "metadata": {},
   "source": [
    "## Set Parameters for Classifiers"
   ]
  },
  {
   "cell_type": "markdown",
   "metadata": {},
   "source": [
    "Recall from the previous notebook that the predictor columns are the top containment features as well as the LCS score. The target variable, `class` as renamed so that it is easier to use in testing. \n",
    "\n",
    "`MLTestTool` class requires the data to be loaded first as training predictors and target class. That is shown in the cell below. The tester also requires that different model instances be passed by way of parameter dictionaries. I'll define basic parameters for Support Vector (SVC) and Logistic Regression. "
   ]
  },
  {
   "cell_type": "code",
   "execution_count": 6,
   "metadata": {},
   "outputs": [],
   "source": [
    "test_ml = MLTestTool(training_df=train_df.drop(\"class\", axis=1),\n",
    "                     target=train_df[\"class\"], \n",
    "                    include_auc=True)"
   ]
  },
  {
   "cell_type": "code",
   "execution_count": 7,
   "metadata": {},
   "outputs": [],
   "source": [
    "params = {'model_instance':LogisticRegression(multi_class=\"auto\",\n",
    "                                              solver='lbfgs', \n",
    "                                             max_iter=3000)}\n",
    "params_1 = {'model_instance':SVC(gamma=\"auto\", probability=True)}\n",
    "params_2 = {'model_instance':SVC(kernel=\"linear\",gamma=\"auto\", probability=True)}"
   ]
  },
  {
   "cell_type": "markdown",
   "metadata": {},
   "source": [
    "We can now test different models by passing in their model instance and parameters."
   ]
  },
  {
   "cell_type": "code",
   "execution_count": 8,
   "metadata": {},
   "outputs": [
    {
     "data": {
      "text/plain": [
       "{0: {'model_id': 0,\n",
       "  'model': LogisticRegression(C=1.0, class_weight=None, dual=False, fit_intercept=True,\n",
       "                     intercept_scaling=1, l1_ratio=None, max_iter=3000,\n",
       "                     multi_class='auto', n_jobs=None, penalty='l2',\n",
       "                     random_state=None, solver='lbfgs', tol=0.0001, verbose=0,\n",
       "                     warm_start=False),\n",
       "  'f1_score': {'mean': 1.0, 'sd': 0.0},\n",
       "  'recall': {'mean': 0.8562, 'sd': 0.141},\n",
       "  'precision': {'mean': 1.0, 'sd': 0.0},\n",
       "  'specificity': {'mean': 1.0, 'sd': 0.0},\n",
       "  'balanced_accuracy': {'mean': 0.9281, 'sd': 0.0705},\n",
       "  'accuracy': {'mean': 0.9143, 'sd': 0.0833},\n",
       "  'auc': {'mean': 0.9911, 'sd': 0.0178}}}"
      ]
     },
     "execution_count": 8,
     "metadata": {},
     "output_type": "execute_result"
    }
   ],
   "source": [
    "test_ml.test_model(params=params)"
   ]
  },
  {
   "cell_type": "code",
   "execution_count": 9,
   "metadata": {},
   "outputs": [
    {
     "data": {
      "text/plain": [
       "{0: {'model_id': 0,\n",
       "  'model': LogisticRegression(C=1.0, class_weight=None, dual=False, fit_intercept=True,\n",
       "                     intercept_scaling=1, l1_ratio=None, max_iter=3000,\n",
       "                     multi_class='auto', n_jobs=None, penalty='l2',\n",
       "                     random_state=None, solver='lbfgs', tol=0.0001, verbose=0,\n",
       "                     warm_start=False),\n",
       "  'f1_score': {'mean': 1.0, 'sd': 0.0},\n",
       "  'recall': {'mean': 0.8562, 'sd': 0.141},\n",
       "  'precision': {'mean': 1.0, 'sd': 0.0},\n",
       "  'specificity': {'mean': 1.0, 'sd': 0.0},\n",
       "  'balanced_accuracy': {'mean': 0.9281, 'sd': 0.0705},\n",
       "  'accuracy': {'mean': 0.9143, 'sd': 0.0833},\n",
       "  'auc': {'mean': 0.9911, 'sd': 0.0178}},\n",
       " 1: {'model_id': 1,\n",
       "  'model': SVC(C=1.0, cache_size=200, class_weight=None, coef0=0.0,\n",
       "      decision_function_shape='ovr', degree=3, gamma='auto', kernel='rbf',\n",
       "      max_iter=-1, probability=True, random_state=None, shrinking=True, tol=0.001,\n",
       "      verbose=False),\n",
       "  'f1_score': {'mean': 1.0, 'sd': 0.0},\n",
       "  'recall': {'mean': 0.834, 'sd': 0.174},\n",
       "  'precision': {'mean': 1.0, 'sd': 0.0},\n",
       "  'specificity': {'mean': 1.0, 'sd': 0.0},\n",
       "  'balanced_accuracy': {'mean': 0.917, 'sd': 0.087},\n",
       "  'accuracy': {'mean': 0.9, 'sd': 0.1069},\n",
       "  'auc': {'mean': 0.9911, 'sd': 0.0178}}}"
      ]
     },
     "execution_count": 9,
     "metadata": {},
     "output_type": "execute_result"
    }
   ],
   "source": [
    "test_ml.test_model(params=params_1)"
   ]
  },
  {
   "cell_type": "code",
   "execution_count": 10,
   "metadata": {},
   "outputs": [
    {
     "data": {
      "text/plain": [
       "{0: {'model_id': 0,\n",
       "  'model': LogisticRegression(C=1.0, class_weight=None, dual=False, fit_intercept=True,\n",
       "                     intercept_scaling=1, l1_ratio=None, max_iter=3000,\n",
       "                     multi_class='auto', n_jobs=None, penalty='l2',\n",
       "                     random_state=None, solver='lbfgs', tol=0.0001, verbose=0,\n",
       "                     warm_start=False),\n",
       "  'f1_score': {'mean': 1.0, 'sd': 0.0},\n",
       "  'recall': {'mean': 0.8562, 'sd': 0.141},\n",
       "  'precision': {'mean': 1.0, 'sd': 0.0},\n",
       "  'specificity': {'mean': 1.0, 'sd': 0.0},\n",
       "  'balanced_accuracy': {'mean': 0.9281, 'sd': 0.0705},\n",
       "  'accuracy': {'mean': 0.9143, 'sd': 0.0833},\n",
       "  'auc': {'mean': 0.9911, 'sd': 0.0178}},\n",
       " 1: {'model_id': 1,\n",
       "  'model': SVC(C=1.0, cache_size=200, class_weight=None, coef0=0.0,\n",
       "      decision_function_shape='ovr', degree=3, gamma='auto', kernel='rbf',\n",
       "      max_iter=-1, probability=True, random_state=None, shrinking=True, tol=0.001,\n",
       "      verbose=False),\n",
       "  'f1_score': {'mean': 1.0, 'sd': 0.0},\n",
       "  'recall': {'mean': 0.834, 'sd': 0.174},\n",
       "  'precision': {'mean': 1.0, 'sd': 0.0},\n",
       "  'specificity': {'mean': 1.0, 'sd': 0.0},\n",
       "  'balanced_accuracy': {'mean': 0.917, 'sd': 0.087},\n",
       "  'accuracy': {'mean': 0.9, 'sd': 0.1069},\n",
       "  'auc': {'mean': 0.9911, 'sd': 0.0178}},\n",
       " 2: {'model_id': 2,\n",
       "  'model': SVC(C=1.0, cache_size=200, class_weight=None, coef0=0.0,\n",
       "      decision_function_shape='ovr', degree=3, gamma='auto', kernel='linear',\n",
       "      max_iter=-1, probability=True, random_state=None, shrinking=True, tol=0.001,\n",
       "      verbose=False),\n",
       "  'f1_score': {'mean': 1.0, 'sd': 0.0},\n",
       "  'recall': {'mean': 0.8562, 'sd': 0.141},\n",
       "  'precision': {'mean': 1.0, 'sd': 0.0},\n",
       "  'specificity': {'mean': 1.0, 'sd': 0.0},\n",
       "  'balanced_accuracy': {'mean': 0.9281, 'sd': 0.0705},\n",
       "  'accuracy': {'mean': 0.9143, 'sd': 0.0833},\n",
       "  'auc': {'mean': 0.9911, 'sd': 0.0178}}}"
      ]
     },
     "execution_count": 10,
     "metadata": {},
     "output_type": "execute_result"
    }
   ],
   "source": [
    "test_ml.test_model(params=params_2)"
   ]
  },
  {
   "cell_type": "markdown",
   "metadata": {},
   "source": [
    "These are all pretty good, but I would like to see a better accuracy than 90%. Let's try a tree boosted classifier. "
   ]
  },
  {
   "cell_type": "markdown",
   "metadata": {},
   "source": [
    "## Random Search GBM\n",
    "\n",
    "I like random search over grid search, so we will do 100 iterations of xgb models and see what comes out. \n",
    "\n",
    "`MLTestTool` has a nice method call `rank_top_performers` that sorts the dictionary of results by selected mettric. I'll use accuracy since the AUC ROC scores are going to be very high for all and I want to see a gain in accuracy. "
   ]
  },
  {
   "cell_type": "code",
   "execution_count": 11,
   "metadata": {},
   "outputs": [],
   "source": [
    "import random\n",
    "N_TRIALS = 200\n",
    "for i in range(N_TRIALS):\n",
    "    learning_rate_factor = random.randint(1, 15)\n",
    "    gbm_rs = GradientBoostingClassifier(\n",
    "        learning_rate=0.25 / learning_rate_factor,\n",
    "        n_estimators=random.randint(20, 100),\n",
    "        max_depth=random.randint(2, 15),\n",
    "        min_samples_split=random.randint(2, 50),\n",
    "        min_samples_leaf=random.randint(1, 50),\n",
    "        subsample=1-(random.randint(0, 30)/100),\n",
    "        random_state=test_ml.random_seed\n",
    "    )\n",
    "    test_ml.test_model({'model_instance':gbm_rs})"
   ]
  },
  {
   "cell_type": "markdown",
   "metadata": {},
   "source": [
    "**Right click on the output and select the \"Enable Scrolling\" to reduce the length of the output.**"
   ]
  },
  {
   "cell_type": "code",
   "execution_count": 12,
   "metadata": {},
   "outputs": [
    {
     "data": {
      "text/plain": [
       "[{'model_id': 5,\n",
       "  'model': GradientBoostingClassifier(criterion='friedman_mse', init=None,\n",
       "                             learning_rate=0.019230769230769232, loss='deviance',\n",
       "                             max_depth=11, max_features=None, max_leaf_nodes=None,\n",
       "                             min_impurity_decrease=0.0, min_impurity_split=None,\n",
       "                             min_samples_leaf=15, min_samples_split=20,\n",
       "                             min_weight_fraction_leaf=0.0, n_estimators=21,\n",
       "                             n_iter_no_change=None, presort='auto',\n",
       "                             random_state=945945, subsample=0.88, tol=0.0001,\n",
       "                             validation_fraction=0.1, verbose=0,\n",
       "                             warm_start=False),\n",
       "  'f1_score': {'mean': 1.0, 'sd': 0.0},\n",
       "  'recall': {'mean': 0.9556, 'sd': 0.0889},\n",
       "  'precision': {'mean': 1.0, 'sd': 0.0},\n",
       "  'specificity': {'mean': 1.0, 'sd': 0.0},\n",
       "  'balanced_accuracy': {'mean': 0.9778, 'sd': 0.0444},\n",
       "  'accuracy': {'mean': 0.9714, 'sd': 0.0571},\n",
       "  'auc': {'mean': 0.9778, 'sd': 0.0444}},\n",
       " {'model_id': 11,\n",
       "  'model': GradientBoostingClassifier(criterion='friedman_mse', init=None,\n",
       "                             learning_rate=0.0625, loss='deviance', max_depth=11,\n",
       "                             max_features=None, max_leaf_nodes=None,\n",
       "                             min_impurity_decrease=0.0, min_impurity_split=None,\n",
       "                             min_samples_leaf=7, min_samples_split=8,\n",
       "                             min_weight_fraction_leaf=0.0, n_estimators=21,\n",
       "                             n_iter_no_change=None, presort='auto',\n",
       "                             random_state=945945, subsample=0.77, tol=0.0001,\n",
       "                             validation_fraction=0.1, verbose=0,\n",
       "                             warm_start=False),\n",
       "  'f1_score': {'mean': 1.0, 'sd': 0.0},\n",
       "  'recall': {'mean': 0.9556, 'sd': 0.0889},\n",
       "  'precision': {'mean': 1.0, 'sd': 0.0},\n",
       "  'specificity': {'mean': 1.0, 'sd': 0.0},\n",
       "  'balanced_accuracy': {'mean': 0.9778, 'sd': 0.0444},\n",
       "  'accuracy': {'mean': 0.9714, 'sd': 0.0571},\n",
       "  'auc': {'mean': 0.9711, 'sd': 0.0578}},\n",
       " {'model_id': 13,\n",
       "  'model': GradientBoostingClassifier(criterion='friedman_mse', init=None,\n",
       "                             learning_rate=0.027777777777777776, loss='deviance',\n",
       "                             max_depth=3, max_features=None, max_leaf_nodes=None,\n",
       "                             min_impurity_decrease=0.0, min_impurity_split=None,\n",
       "                             min_samples_leaf=11, min_samples_split=10,\n",
       "                             min_weight_fraction_leaf=0.0, n_estimators=68,\n",
       "                             n_iter_no_change=None, presort='auto',\n",
       "                             random_state=945945, subsample=0.77, tol=0.0001,\n",
       "                             validation_fraction=0.1, verbose=0,\n",
       "                             warm_start=False),\n",
       "  'f1_score': {'mean': 1.0, 'sd': 0.0},\n",
       "  'recall': {'mean': 0.9556, 'sd': 0.0889},\n",
       "  'precision': {'mean': 1.0, 'sd': 0.0},\n",
       "  'specificity': {'mean': 1.0, 'sd': 0.0},\n",
       "  'balanced_accuracy': {'mean': 0.9778, 'sd': 0.0444},\n",
       "  'accuracy': {'mean': 0.9714, 'sd': 0.0571},\n",
       "  'auc': {'mean': 0.9778, 'sd': 0.0444}},\n",
       " {'model_id': 14,\n",
       "  'model': GradientBoostingClassifier(criterion='friedman_mse', init=None,\n",
       "                             learning_rate=0.25, loss='deviance', max_depth=12,\n",
       "                             max_features=None, max_leaf_nodes=None,\n",
       "                             min_impurity_decrease=0.0, min_impurity_split=None,\n",
       "                             min_samples_leaf=3, min_samples_split=43,\n",
       "                             min_weight_fraction_leaf=0.0, n_estimators=54,\n",
       "                             n_iter_no_change=None, presort='auto',\n",
       "                             random_state=945945, subsample=1.0, tol=0.0001,\n",
       "                             validation_fraction=0.1, verbose=0,\n",
       "                             warm_start=False),\n",
       "  'f1_score': {'mean': 1.0, 'sd': 0.0},\n",
       "  'recall': {'mean': 0.9556, 'sd': 0.0889},\n",
       "  'precision': {'mean': 1.0, 'sd': 0.0},\n",
       "  'specificity': {'mean': 1.0, 'sd': 0.0},\n",
       "  'balanced_accuracy': {'mean': 0.9778, 'sd': 0.0444},\n",
       "  'accuracy': {'mean': 0.9714, 'sd': 0.0571},\n",
       "  'auc': {'mean': 0.9778, 'sd': 0.0444}},\n",
       " {'model_id': 17,\n",
       "  'model': GradientBoostingClassifier(criterion='friedman_mse', init=None,\n",
       "                             learning_rate=0.016666666666666666, loss='deviance',\n",
       "                             max_depth=6, max_features=None, max_leaf_nodes=None,\n",
       "                             min_impurity_decrease=0.0, min_impurity_split=None,\n",
       "                             min_samples_leaf=7, min_samples_split=8,\n",
       "                             min_weight_fraction_leaf=0.0, n_estimators=56,\n",
       "                             n_iter_no_change=None, presort='auto',\n",
       "                             random_state=945945, subsample=0.97, tol=0.0001,\n",
       "                             validation_fraction=0.1, verbose=0,\n",
       "                             warm_start=False),\n",
       "  'f1_score': {'mean': 1.0, 'sd': 0.0},\n",
       "  'recall': {'mean': 0.9556, 'sd': 0.0889},\n",
       "  'precision': {'mean': 1.0, 'sd': 0.0},\n",
       "  'specificity': {'mean': 1.0, 'sd': 0.0},\n",
       "  'balanced_accuracy': {'mean': 0.9778, 'sd': 0.0444},\n",
       "  'accuracy': {'mean': 0.9714, 'sd': 0.0571},\n",
       "  'auc': {'mean': 0.9778, 'sd': 0.0444}}]"
      ]
     },
     "execution_count": 12,
     "metadata": {},
     "output_type": "execute_result"
    }
   ],
   "source": [
    "test_ml.rank_top_performers(metric='accuracy')[:5]"
   ]
  },
  {
   "cell_type": "markdown",
   "metadata": {},
   "source": [
    "Great! We have our winner and it's the boosted tree model, of course. "
   ]
  },
  {
   "cell_type": "code",
   "execution_count": 13,
   "metadata": {},
   "outputs": [],
   "source": [
    "best_model = test_ml.rank_top_performers(metric='accuracy')[0]['model']"
   ]
  },
  {
   "cell_type": "code",
   "execution_count": 14,
   "metadata": {},
   "outputs": [
    {
     "data": {
      "text/plain": [
       "<bound method BaseEstimator.get_params of GradientBoostingClassifier(criterion='friedman_mse', init=None,\n",
       "                           learning_rate=0.019230769230769232, loss='deviance',\n",
       "                           max_depth=11, max_features=None, max_leaf_nodes=None,\n",
       "                           min_impurity_decrease=0.0, min_impurity_split=None,\n",
       "                           min_samples_leaf=15, min_samples_split=20,\n",
       "                           min_weight_fraction_leaf=0.0, n_estimators=21,\n",
       "                           n_iter_no_change=None, presort='auto',\n",
       "                           random_state=945945, subsample=0.88, tol=0.0001,\n",
       "                           validation_fraction=0.1, verbose=0,\n",
       "                           warm_start=False)>"
      ]
     },
     "execution_count": 14,
     "metadata": {},
     "output_type": "execute_result"
    }
   ],
   "source": [
    "best_model.get_params"
   ]
  },
  {
   "cell_type": "code",
   "execution_count": 15,
   "metadata": {},
   "outputs": [
    {
     "data": {
      "image/png": "[encoded data removed]",
      "text/plain": [
       "<Figure size 864x576 with 1 Axes>"
      ]
     },
     "metadata": {
      "needs_background": "light"
     },
     "output_type": "display_data"
    }
   ],
   "source": [
    "test_ml.plot_features_importance(best_model)"
   ]
  },
  {
   "cell_type": "markdown",
   "metadata": {},
   "source": [
    "Great! We can use the parameters of the best model in SageMaker to deploy an endpoint."
   ]
  }
 ],
 "metadata": {
  "kernelspec": {
   "display_name": "Python 3",
   "language": "python",
   "name": "python3"
  },
  "language_info": {
   "codemirror_mode": {
    "name": "ipython",
    "version": 3
   },
   "file_extension": ".py",
   "mimetype": "text/x-python",
   "name": "python",
   "nbconvert_exporter": "python",
   "pygments_lexer": "ipython3",
   "version": "3.7.3"
  }
 },
 "nbformat": 4,
 "nbformat_minor": 2
}
